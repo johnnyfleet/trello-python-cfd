{
 "cells": [
  {
   "cell_type": "markdown",
   "metadata": {},
   "source": [
    "# GraphQL from Trello\n",
    "\n",
    "This notebook tests pulling data from Trello via GraphQL query. \n",
    "\n",
    "It helps to bring back all the lists and cards on the kanban board. "
   ]
  },
  {
   "cell_type": "code",
   "execution_count": null,
   "metadata": {},
   "outputs": [],
   "source": [
    "import requests\n",
    "import json\n",
    "import pandas as pd\n",
    "import os\n",
    "import base64\n"
   ]
  },
  {
   "cell_type": "markdown",
   "metadata": {},
   "source": [
    "Pull in all variables - these are stored as secrets and defined either in the project or passed in to codespaces when it is started. "
   ]
  },
  {
   "cell_type": "code",
   "execution_count": null,
   "metadata": {},
   "outputs": [],
   "source": [
    "trello_username = os.getenv('ATLASSIAN_USERNAME')\n",
    "trello_graphql_token = os.getenv('ATLASSIAN_API_TOKEN')\n",
    "trello_repo_name = os.getenv('ATLASSIAN_SUBDOMAIN')\n",
    "trello_board_id = os.getenv('TRELLO_BOARD_ID')"
   ]
  },
  {
   "cell_type": "markdown",
   "metadata": {},
   "source": [
    "The GraphQL query to sent to the Atlassian endpoint. This pulls all cards grouped by each list from a specific board. "
   ]
  },
  {
   "cell_type": "code",
   "execution_count": null,
   "metadata": {},
   "outputs": [],
   "source": [
    "query = \"\"\"\n",
    "            query MyQuery {\n",
    "              trello @optIn(to: [\"TrelloBoard\", \"TrelloListCards\"]){\n",
    "                board(\n",
    "                  id: \"ari:cloud:trello::board/workspace/6137a3a268cbbd3f699e54fc/5f0d82321591070cf48987d5\"\n",
    "                ) {\n",
    "                  name\n",
    "                  lists {\n",
    "                    nodes {\n",
    "                      name\n",
    "                      id\n",
    "                      cards {\n",
    "                        edges {\n",
    "                          node {\n",
    "                            id\n",
    "                            name\n",
    "                            labels {\n",
    "                              nodes {\n",
    "                                name\n",
    "                              }\n",
    "                            }\n",
    "                          }\n",
    "                        }\n",
    "                      }\n",
    "                    }\n",
    "                  }\n",
    "                }\n",
    "              }\n",
    "            }\n",
    "        \"\"\""
   ]
  },
  {
   "cell_type": "markdown",
   "metadata": {},
   "source": [
    "Generate authentication token for basic authentication. \n",
    "\n",
    "See [Atlassian Basic Auth instructions](https://developer.atlassian.com/cloud/jira/platform/basic-auth-for-rest-apis/) to learn more"
   ]
  },
  {
   "cell_type": "code",
   "execution_count": null,
   "metadata": {},
   "outputs": [],
   "source": [
    "auth_plain = trello_username + \":\" + trello_graphql_token\n",
    "message_bytes = auth_plain.encode('ascii')\n",
    "auth_base64 = base64.b64encode(message_bytes)\n",
    "base64_message = auth_base64.decode('ascii')\n",
    "\n",
    "my_api_token = 'Basic ' + base64_message"
   ]
  },
  {
   "cell_type": "markdown",
   "metadata": {},
   "source": [
    "Run the query against the Atlassian GraphQL endpoint"
   ]
  },
  {
   "cell_type": "code",
   "execution_count": null,
   "metadata": {},
   "outputs": [],
   "source": [
    "url = f\"https://{trello_repo_name}.atlassian.net/gateway/api/graphql\"\n",
    "headers = {\"Authorization\": my_api_token}\n",
    "r = requests.post(url, headers=headers, json={'query': query})\n",
    "print(r.status_code)"
   ]
  },
  {
   "cell_type": "markdown",
   "metadata": {},
   "source": [
    "Extract the results in json"
   ]
  },
  {
   "cell_type": "code",
   "execution_count": null,
   "metadata": {},
   "outputs": [],
   "source": [
    "json_data = json.loads(r.text)"
   ]
  },
  {
   "cell_type": "markdown",
   "metadata": {},
   "source": [
    "Flatten (normalise) the nested json to the bits that matter:\n",
    "\n",
    "- The cards\n",
    "- The list they're part of\n",
    "- The label (if exists)\n",
    "\n",
    "Labels need to be cleaned up some more."
   ]
  },
  {
   "cell_type": "code",
   "execution_count": null,
   "metadata": {},
   "outputs": [],
   "source": [
    "storage_json = json_data['data']['trello']['board']['lists']['nodes']\n",
    "df = pd.json_normalize(storage_json, [\"cards\",\"edges\"],[\"name\",\"id\"])\n",
    "df.rename(columns={\"node.id\":\"Card_ID\", \"node.name\":\"Card_name\",\"node.labels.nodes\":\"Card_labels\",\"name\":\"List_name\",\"id\":\"List_ID\"})\n"
   ]
  },
  {
   "cell_type": "markdown",
   "metadata": {},
   "source": [
    "Troubleshooting: Dump output of json into a pretty nested format. "
   ]
  },
  {
   "cell_type": "code",
   "execution_count": null,
   "metadata": {},
   "outputs": [],
   "source": [
    "print(json.dumps(json_data, indent = 2, sort_keys=True))"
   ]
  },
  {
   "cell_type": "markdown",
   "metadata": {},
   "source": [
    "Troubleshooting: Extract out a subset into a pretty nested format. "
   ]
  },
  {
   "cell_type": "code",
   "execution_count": null,
   "metadata": {},
   "outputs": [],
   "source": [
    "print(json.dumps(storage['data']['trello']['board']['lists']['nodes'], indent = 2, sort_keys=True))"
   ]
  }
 ],
 "metadata": {
  "language_info": {
   "name": "python"
  }
 },
 "nbformat": 4,
 "nbformat_minor": 2
}
