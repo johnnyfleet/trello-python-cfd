{
 "cells": [
  {
   "cell_type": "markdown",
   "metadata": {},
   "source": [
    "# GraphQL from Trello\n",
    "\n",
    "This notebook tests pulling data from Trello via GraphQL query. \n",
    "\n",
    "It helps to bring back all the lists and cards on the kanban board. "
   ]
  },
  {
   "cell_type": "code",
   "execution_count": null,
   "metadata": {},
   "outputs": [],
   "source": [
    "import requests\n",
    "import json\n",
    "import pandas as pd"
   ]
  },
  {
   "cell_type": "code",
   "execution_count": null,
   "metadata": {},
   "outputs": [],
   "source": [
    "import os\n",
    "\n",
    "trello_username = os.getenv('ATLASSIAN_USERNAME')\n",
    "trello_graphql_token = os.getenv('ATLASSIAN_API_TOKEN')\n",
    "trello_repo_name = os.getenv('ATLASSIAN_SUBDOMAIN')\n",
    "trello_board_id = os.getenv('TRELLO_BOARD_ID')"
   ]
  },
  {
   "cell_type": "code",
   "execution_count": null,
   "metadata": {},
   "outputs": [],
   "source": [
    "query = \"\"\"\n",
    "            query MyQuery {\n",
    "              trello @optIn(to: [\"TrelloBoard\", \"TrelloListCards\"]){\n",
    "                board(\n",
    "                  id: \"ari:cloud:trello::board/workspace/6137a3a268cbbd3f699e54fc/5f0d82321591070cf48987d5\"\n",
    "                ) {\n",
    "                  name\n",
    "                  lists {\n",
    "                    nodes {\n",
    "                      name\n",
    "                      id\n",
    "                      cards {\n",
    "                        edges {\n",
    "                          node {\n",
    "                            id\n",
    "                            name\n",
    "                            labels {\n",
    "                              nodes {\n",
    "                                name\n",
    "                              }\n",
    "                            }\n",
    "                          }\n",
    "                        }\n",
    "                      }\n",
    "                    }\n",
    "                  }\n",
    "                }\n",
    "              }\n",
    "            }\n",
    "        \"\"\""
   ]
  },
  {
   "cell_type": "code",
   "execution_count": null,
   "metadata": {},
   "outputs": [],
   "source": [
    "import base64\n",
    "\n",
    "\n",
    "auth_plain = trello_username + \":\" + trello_graphql_token\n",
    "message_bytes = auth_plain.encode('ascii')\n",
    "auth_base64 = base64.b64encode(message_bytes)\n",
    "base64_message = auth_base64.decode('ascii')\n",
    "\n",
    "my_new_api_token = 'Basic ' + base64_message"
   ]
  },
  {
   "cell_type": "code",
   "execution_count": null,
   "metadata": {},
   "outputs": [],
   "source": [
    "url = f\"https://{trello_repo_name}.atlassian.net/gateway/api/graphql\"\n",
    "headers = {\"Authorization\": my_new_api_token}\n",
    "r = requests.post(url, headers=headers, json={'query': query})\n",
    "print(r.status_code)\n",
    "print(r.text)"
   ]
  },
  {
   "cell_type": "code",
   "execution_count": null,
   "metadata": {},
   "outputs": [],
   "source": [
    "json_data = json.loads(r.text)"
   ]
  },
  {
   "cell_type": "code",
   "execution_count": null,
   "metadata": {},
   "outputs": [],
   "source": [
    "print(json_data)"
   ]
  },
  {
   "cell_type": "code",
   "execution_count": null,
   "metadata": {},
   "outputs": [],
   "source": [
    "print(json.dumps(json_data, indent = 2, sort_keys=True))"
   ]
  }
 ],
 "metadata": {
  "language_info": {
   "name": "python"
  }
 },
 "nbformat": 4,
 "nbformat_minor": 2
}
