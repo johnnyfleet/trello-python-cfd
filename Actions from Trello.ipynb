{
 "cells": [
  {
   "cell_type": "markdown",
   "metadata": {},
   "source": [
    "# Actions from Trello\n",
    "\n",
    "This notebook tests pulling data from Trello via the trello APIs.  \n",
    "\n",
    "It pulls back all actions over a certain period and builds a pandas dataframe with the data for a cumulative flow diagram in Plotly (so we can render in dash ultimately)  "
   ]
  },
  {
   "cell_type": "code",
   "execution_count": null,
   "metadata": {},
   "outputs": [],
   "source": [
    "import requests\n",
    "import json\n",
    "import pandas as pd\n",
    "import numpy as np\n",
    "import os\n",
    "from requests_oauthlib import OAuth1Session\n",
    "import plotly.express as px"
   ]
  },
  {
   "cell_type": "markdown",
   "metadata": {},
   "source": [
    "Pull in all variables - these are stored as secrets and defined either in the project or passed in to codespaces when it is started. "
   ]
  },
  {
   "cell_type": "code",
   "execution_count": null,
   "metadata": {},
   "outputs": [],
   "source": [
    "trello_key = os.getenv('TRELLO_KEY')\n",
    "trello_token = os.getenv('TRELLO_TOKEN')\n",
    "trello_board_id = os.getenv('TRELLO_BOARD_ID_SHORT')"
   ]
  },
  {
   "cell_type": "markdown",
   "metadata": {},
   "source": [
    "Run the query against the trello api endpoints. "
   ]
  },
  {
   "cell_type": "code",
   "execution_count": null,
   "metadata": {},
   "outputs": [],
   "source": [
    "uri = f\"https://api.trello.com/1/boards/{trello_board_id}/actions\"\n",
    "filter = \"since=Jun%201%202023&limit=1000&filter=createCard,updateCard\"\n",
    "url = uri + \"?\" + filter\n",
    "oauthRequest = OAuth1Session(trello_key,\n",
    "                    resource_owner_key=trello_token)\n",
    "\n",
    "headers = {'Accept': \"application/json\"}\n",
    "r = oauthRequest.get(url, headers=headers)\n",
    "print(r.status_code)"
   ]
  },
  {
   "cell_type": "markdown",
   "metadata": {},
   "source": [
    "Extract the results in json"
   ]
  },
  {
   "cell_type": "code",
   "execution_count": null,
   "metadata": {},
   "outputs": [],
   "source": [
    "json_data = json.loads(r.text)\n",
    "\n",
    "print(len(json_data))\n",
    "print(json.dumps(json_data, indent = 2, sort_keys=True))"
   ]
  },
  {
   "cell_type": "markdown",
   "metadata": {},
   "source": [
    "Flatten (normalise) the nested json to the bits that matter"
   ]
  },
  {
   "cell_type": "code",
   "execution_count": null,
   "metadata": {},
   "outputs": [],
   "source": [
    "df = pd.json_normalize(json_data)"
   ]
  },
  {
   "cell_type": "code",
   "execution_count": null,
   "metadata": {},
   "outputs": [],
   "source": [
    "df"
   ]
  },
  {
   "cell_type": "markdown",
   "metadata": {},
   "source": [
    "Update the date columns to be the index and set the timezone to local. "
   ]
  },
  {
   "cell_type": "code",
   "execution_count": null,
   "metadata": {},
   "outputs": [],
   "source": [
    "df['date'] = pd.to_datetime(df['date'])\n",
    "df.set_index('date', inplace=True)\n",
    "df = df.tz_convert(\"Pacific/Auckland\")"
   ]
  },
  {
   "cell_type": "markdown",
   "metadata": {},
   "source": [
    "Add new blank columns for populating shortly"
   ]
  },
  {
   "cell_type": "code",
   "execution_count": null,
   "metadata": {},
   "outputs": [],
   "source": [
    "df[\"Count.Landing_Space\"] = np.nan\n",
    "df[\"Count.This_Week\"] = np.nan\n",
    "df[\"Count.Next\"] = np.nan\n",
    "df[\"Count.In_Progress\"] = np.nan\n",
    "df[\"Count.Done\"] = np.nan\n",
    "df[\"Count.Archive\"] = np.nan"
   ]
  },
  {
   "cell_type": "code",
   "execution_count": null,
   "metadata": {},
   "outputs": [],
   "source": [
    "#df.loc[(df['type'] == 'createCard') & (df['data.list.name'].str.contains(\"Landing Space\",na=False)),'Count.Landing_Space']\n",
    "\n",
    "df.loc[(df['type'] == 'createCard') & (df['data.list.name'].isnull()),'data.list.name'] = 'This Week'\n",
    "\n",
    "df.loc[(df['type'] == 'createCard') & (df['data.list.name'].isnull()),'data.list.name']"
   ]
  },
  {
   "cell_type": "markdown",
   "metadata": {},
   "source": [
    "Populate the columns with a 1 if a card moved into the column and -1 as it leaves - to help generate cumulative view \n",
    "shortly. \n",
    "\n",
    "We also need to tidy up created Cards - This is because the actions don't always attribute  \n"
   ]
  },
  {
   "cell_type": "code",
   "execution_count": null,
   "metadata": {},
   "outputs": [],
   "source": [
    "# If no list set when created (happens sometimes) set to 'This Week'\n",
    "df.loc[(df['type'] == 'createCard') & (df['data.list.name'].isnull()),'data.list.name'] = 'This Week'\n",
    "\n",
    "#Increment for newly created cards\n",
    "df.loc[(df['type'] == 'createCard') & (df['data.list.name'].str.contains(\"Landing Space\",na=False)),'Count.Landing_Space'] = 1\n",
    "df.loc[(df['type'] == 'createCard') & (df['data.list.name'].str.contains(\"This Week\",na=False)),'Count.This_Week'] = 1\n",
    "df.loc[(df['type'] == 'createCard') & (df['data.list.name'].str.contains(\"In Progress\",na=False)),'Count.In_Progress'] = 1\n",
    "df.loc[(df['type'] == 'createCard') & (df['data.list.name'].str.contains(\"Next\",na=False)),'Count.Next'] = 1\n",
    "df.loc[(df['type'] == 'createCard') & (df['data.list.name'].str.contains(\"Done\",na=False)),'Count.Done'] = 1\n",
    "df.loc[(df['type'] == 'createCard') & (df['data.list.name'].str.contains(\"This Week\",na=False)),'Count.This_Week'] = 1\n",
    "\n",
    "#Increment for moving into a list\n",
    "df.loc[df['data.listAfter.name'].str.contains(\"Landing Space\",na=False),'Count.Landing_Space'] = 1\n",
    "df.loc[df['data.listAfter.name'].str.contains(\"This Week\",na=False),'Count.This_Week'] = 1\n",
    "df.loc[df['data.listAfter.name'].str.contains(\"In Progress\",na=False),'Count.In_Progress'] = 1\n",
    "df.loc[df['data.listAfter.name'].str.contains(\"Next\",na=False),'Count.Next'] = 1\n",
    "df.loc[df['data.listAfter.name'].str.contains(\"Done\",na=False),'Count.Done'] = 1\n",
    "\n",
    "#Decrement for moving out of a list\n",
    "df.loc[df['data.listBefore.name'].str.contains(\"Landing Space\",na=False),'Count.Landing_Space'] = -1\n",
    "df.loc[df['data.listBefore.name'].str.contains(\"This Week\",na=False),'Count.This_Week'] = -1\n",
    "df.loc[df['data.listBefore.name'].str.contains(\"In Progress\",na=False),'Count.In_Progress'] = -1\n",
    "df.loc[df['data.listBefore.name'].str.contains(\"Next\",na=False),'Count.Next'] = -1\n",
    "df.loc[df['data.listBefore.name'].str.contains(\"Done\",na=False),'Count.Done'] = -1\n",
    "\n",
    "df['Count.Landing_Space'] = df['Count.Landing_Space'].fillna(0)\n",
    "df['Count.This_Week'] = df['Count.This_Week'].fillna(0)\n",
    "df['Count.In_Progress'] = df['Count.In_Progress'].fillna(0)\n",
    "df['Count.Next'] = df['Count.Next'].fillna(0)\n",
    "df['Count.Done'] = df['Count.Done'].fillna(0)"
   ]
  },
  {
   "cell_type": "code",
   "execution_count": null,
   "metadata": {},
   "outputs": [],
   "source": [
    "df"
   ]
  },
  {
   "cell_type": "markdown",
   "metadata": {},
   "source": [
    "Pull back subset of data that we care about"
   ]
  },
  {
   "cell_type": "code",
   "execution_count": null,
   "metadata": {},
   "outputs": [],
   "source": [
    "df[[\"id\",\n",
    "    \"data.card.name\",\n",
    "    \"type\",\n",
    "    \"data.card.closed\",\n",
    "    \"data.list.name\",\n",
    "    \"data.listBefore.name\",\n",
    "    \"data.listAfter.name\",\n",
    "    \"appCreator.id\",\n",
    "    \"appCreator.name\",\n",
    "    \"data.card.idLabels\",\n",
    "    \"Count.Landing_Space\",\n",
    "    \"Count.This_Week\",\n",
    "    \"Count.Next\",\n",
    "    \"Count.In_Progress\",\n",
    "    \"Count.Done\",\n",
    "    \"Count.Archive\"\n",
    "    ]]"
   ]
  },
  {
   "cell_type": "code",
   "execution_count": null,
   "metadata": {},
   "outputs": [],
   "source": [
    "df[[\"id\",\n",
    "    \"data.card.name\",\n",
    "    \"type\",\n",
    "    \"data.card.closed\",\n",
    "    \"data.list.name\",\n",
    "    \"data.listBefore.name\",\n",
    "    \"data.listAfter.name\",\n",
    "    \"appCreator.id\",\n",
    "    \"appCreator.name\",\n",
    "    \"data.card.idLabels\",\n",
    "    \"Count.Landing_Space\",\n",
    "    \"Count.This_Week\",\n",
    "    \"Count.Next\",\n",
    "    \"Count.In_Progress\",\n",
    "    \"Count.Done\",\n",
    "    \"Count.Archive\"\n",
    "    ]].to_csv(\"output.csv\")"
   ]
  },
  {
   "cell_type": "code",
   "execution_count": null,
   "metadata": {},
   "outputs": [],
   "source": [
    "df1 = df[[\"Count.Landing_Space\",\n",
    "    \"Count.This_Week\",\n",
    "    \"Count.Next\",\n",
    "    \"Count.In_Progress\",\n",
    "    \"Count.Done\",\n",
    "    \"Count.Archive\"\n",
    "    ]].groupby(pd.Grouper(freq='1D')).sum()"
   ]
  },
  {
   "cell_type": "code",
   "execution_count": null,
   "metadata": {},
   "outputs": [],
   "source": [
    "df1"
   ]
  },
  {
   "cell_type": "code",
   "execution_count": null,
   "metadata": {},
   "outputs": [],
   "source": [
    "df2 = df[[\"Count.Landing_Space\",\n",
    "    \"Count.This_Week\",\n",
    "    \"Count.Next\",\n",
    "    \"Count.In_Progress\",\n",
    "    \"Count.Done\",\n",
    "    \"Count.Archive\"\n",
    "    ]]\n",
    "\n",
    "df2 = (df2\n",
    "    .reset_index()\n",
    "    .melt(id_vars='date', var_name='list', value_name='sum')\n",
    "    #.set_index('date')\n",
    ")\n",
    "#formatted_df = formatted_df.sort_values(by=[\"date\"])\n",
    "#df2.index.name = 'Date'\n",
    "df2.head(20)"
   ]
  },
  {
   "cell_type": "code",
   "execution_count": null,
   "metadata": {},
   "outputs": [],
   "source": [
    "df2=df2.sort_values(['date']).reset_index(drop=True)\n",
    "df2[\"tickets\"]=df2.groupby(['list'])['sum'].cumsum(axis=0)\n",
    "\n",
    "df2"
   ]
  },
  {
   "cell_type": "code",
   "execution_count": null,
   "metadata": {},
   "outputs": [],
   "source": [
    "fig = px.area(df2, x='date', y=\"tickets\", color=\"list\", line_group=\"list\")\n",
    "fig.show()"
   ]
  },
  {
   "cell_type": "markdown",
   "metadata": {},
   "source": [
    "Filter to just show the last 1 most recent action per card based on a specific date. "
   ]
  },
  {
   "cell_type": "markdown",
   "metadata": {},
   "source": [
    "TODO: Count the number of cards per list\n"
   ]
  },
  {
   "cell_type": "markdown",
   "metadata": {},
   "source": [
    "TODO: Save into a dataframe\n"
   ]
  },
  {
   "cell_type": "markdown",
   "metadata": {},
   "source": [
    "TODO: Render the data in a plotly diagram"
   ]
  },
  {
   "cell_type": "markdown",
   "metadata": {},
   "source": [
    "TODO: Iterate over generate data for every day\n"
   ]
  },
  {
   "cell_type": "markdown",
   "metadata": {},
   "source": [
    "TODO: Render the data in a plotly diagram"
   ]
  },
  {
   "cell_type": "markdown",
   "metadata": {},
   "source": [
    "TODO: Iterate filling over the data from all time & rendering into a plotly diagram"
   ]
  },
  {
   "cell_type": "markdown",
   "metadata": {},
   "source": [
    "Troubleshooting: Dump output of json into a pretty nested format. "
   ]
  },
  {
   "cell_type": "code",
   "execution_count": null,
   "metadata": {},
   "outputs": [],
   "source": [
    "print(json.dumps(json_data, indent = 2, sort_keys=True))"
   ]
  },
  {
   "cell_type": "markdown",
   "metadata": {},
   "source": [
    "Export to csv for testing"
   ]
  },
  {
   "cell_type": "code",
   "execution_count": null,
   "metadata": {},
   "outputs": [],
   "source": [
    "df.to_csv(\"output.csv\")"
   ]
  }
 ],
 "metadata": {
  "language_info": {
   "name": "python"
  }
 },
 "nbformat": 4,
 "nbformat_minor": 2
}
